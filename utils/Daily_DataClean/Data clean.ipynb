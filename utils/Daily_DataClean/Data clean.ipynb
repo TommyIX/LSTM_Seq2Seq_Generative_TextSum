{
 "cells": [
  {
   "cell_type": "code",
   "execution_count": 3,
   "metadata": {},
   "outputs": [],
   "source": [
    "import numpy as np\n",
    "import pandas as pd\n",
    "import seaborn as sns\n",
    "\n",
    "from sklearn.model_selection import train_test_split"
   ]
  },
  {
   "cell_type": "code",
   "execution_count": 4,
   "metadata": {},
   "outputs": [
    {
     "data": {
      "text/html": [
       "<div>\n",
       "<style scoped>\n",
       "    .dataframe tbody tr th:only-of-type {\n",
       "        vertical-align: middle;\n",
       "    }\n",
       "\n",
       "    .dataframe tbody tr th {\n",
       "        vertical-align: top;\n",
       "    }\n",
       "\n",
       "    .dataframe thead th {\n",
       "        text-align: right;\n",
       "    }\n",
       "</style>\n",
       "<table border=\"1\" class=\"dataframe\">\n",
       "  <thead>\n",
       "    <tr style=\"text-align: right;\">\n",
       "      <th></th>\n",
       "      <th>headlines</th>\n",
       "      <th>text</th>\n",
       "    </tr>\n",
       "  </thead>\n",
       "  <tbody>\n",
       "    <tr>\n",
       "      <th>0</th>\n",
       "      <td>upGrad learner switches to career in ML &amp; Al w...</td>\n",
       "      <td>Saurav Kant, an alumnus of upGrad and IIIT-B's...</td>\n",
       "    </tr>\n",
       "    <tr>\n",
       "      <th>1</th>\n",
       "      <td>Delhi techie wins free food from Swiggy for on...</td>\n",
       "      <td>Kunal Shah's credit card bill payment platform...</td>\n",
       "    </tr>\n",
       "    <tr>\n",
       "      <th>2</th>\n",
       "      <td>New Zealand end Rohit Sharma-led India's 12-ma...</td>\n",
       "      <td>New Zealand defeated India by 8 wickets in the...</td>\n",
       "    </tr>\n",
       "    <tr>\n",
       "      <th>3</th>\n",
       "      <td>Aegon life iTerm insurance plan helps customer...</td>\n",
       "      <td>With Aegon Life iTerm Insurance plan, customer...</td>\n",
       "    </tr>\n",
       "    <tr>\n",
       "      <th>4</th>\n",
       "      <td>Have known Hirani for yrs, what if MeToo claim...</td>\n",
       "      <td>Speaking about the sexual harassment allegatio...</td>\n",
       "    </tr>\n",
       "  </tbody>\n",
       "</table>\n",
       "</div>"
      ],
      "text/plain": [
       "                                           headlines  \\\n",
       "0  upGrad learner switches to career in ML & Al w...   \n",
       "1  Delhi techie wins free food from Swiggy for on...   \n",
       "2  New Zealand end Rohit Sharma-led India's 12-ma...   \n",
       "3  Aegon life iTerm insurance plan helps customer...   \n",
       "4  Have known Hirani for yrs, what if MeToo claim...   \n",
       "\n",
       "                                                text  \n",
       "0  Saurav Kant, an alumnus of upGrad and IIIT-B's...  \n",
       "1  Kunal Shah's credit card bill payment platform...  \n",
       "2  New Zealand defeated India by 8 wickets in the...  \n",
       "3  With Aegon Life iTerm Insurance plan, customer...  \n",
       "4  Speaking about the sexual harassment allegatio...  "
      ]
     },
     "execution_count": 4,
     "metadata": {},
     "output_type": "execute_result"
    }
   ],
   "source": [
    "data = pd.read_csv('./data/news_summary_more.csv')\n",
    "data.head()"
   ]
  },
  {
   "cell_type": "code",
   "execution_count": 5,
   "metadata": {},
   "outputs": [
    {
     "name": "stdout",
     "output_type": "stream",
     "text": [
      "<class 'pandas.core.frame.DataFrame'>\n",
      "RangeIndex: 98401 entries, 0 to 98400\n",
      "Data columns (total 2 columns):\n",
      " #   Column     Non-Null Count  Dtype \n",
      "---  ------     --------------  ----- \n",
      " 0   headlines  98401 non-null  object\n",
      " 1   text       98401 non-null  object\n",
      "dtypes: object(2)\n",
      "memory usage: 1.5+ MB\n"
     ]
    }
   ],
   "source": [
    "data.info()"
   ]
  },
  {
   "cell_type": "code",
   "execution_count": 6,
   "metadata": {},
   "outputs": [],
   "source": [
    "data.drop_duplicates(inplace=True)\n",
    "data.dropna(inplace=True)"
   ]
  },
  {
   "cell_type": "code",
   "execution_count": 7,
   "metadata": {},
   "outputs": [
    {
     "data": {
      "text/html": [
       "<div>\n",
       "<style scoped>\n",
       "    .dataframe tbody tr th:only-of-type {\n",
       "        vertical-align: middle;\n",
       "    }\n",
       "\n",
       "    .dataframe tbody tr th {\n",
       "        vertical-align: top;\n",
       "    }\n",
       "\n",
       "    .dataframe thead th {\n",
       "        text-align: right;\n",
       "    }\n",
       "</style>\n",
       "<table border=\"1\" class=\"dataframe\">\n",
       "  <thead>\n",
       "    <tr style=\"text-align: right;\">\n",
       "      <th></th>\n",
       "      <th>headlines</th>\n",
       "      <th>text</th>\n",
       "    </tr>\n",
       "  </thead>\n",
       "  <tbody>\n",
       "  </tbody>\n",
       "</table>\n",
       "</div>"
      ],
      "text/plain": [
       "Empty DataFrame\n",
       "Columns: [headlines, text]\n",
       "Index: []"
      ]
     },
     "execution_count": 7,
     "metadata": {},
     "output_type": "execute_result"
    }
   ],
   "source": [
    "data[(data['headlines'].apply(len) == 0) | (data['headlines'].apply(len) == 0)]"
   ]
  },
  {
   "cell_type": "code",
   "execution_count": 14,
   "metadata": {},
   "outputs": [
    {
     "name": "stdout",
     "output_type": "stream",
     "text": [
      "\n",
      "shape of train data : (78703,)\n",
      "shape of val data : (49189,)\n",
      "shape of test data : (49190,)\n",
      "\n",
      "\n"
     ]
    }
   ],
   "source": [
    "train_X, other_X, train_y, other_y = train_test_split(data['text'], data['headlines'], test_size=0.2, shuffle=True)\n",
    "val_X, test_X, val_y, test_y = train_test_split(data['text'], data['headlines'], test_size=0.5, shuffle=True)\n",
    "print(f\"\"\"\n",
    "shape of train data : {train_X.shape}\n",
    "shape of val data : {val_X.shape}\n",
    "shape of test data : {test_X.shape}\n",
    "\n",
    "\"\"\")"
   ]
  },
  {
   "cell_type": "code",
   "execution_count": 17,
   "metadata": {},
   "outputs": [],
   "source": [
    "pd.concat([train_X,train_y],axis=1).to_csv('./data/train.csv', header=False, index=False)\n",
    "pd.concat([val_X,val_y],axis=1).to_csv('./data/val.csv', header=False, index=False)\n",
    "pd.concat([test_X,test_y],axis=1).to_csv('./data/test.csv', header=False, index=False)"
   ]
  },
  {
   "cell_type": "code",
   "execution_count": 18,
   "metadata": {},
   "outputs": [
    {
     "data": {
      "text/html": [
       "<div>\n",
       "<style scoped>\n",
       "    .dataframe tbody tr th:only-of-type {\n",
       "        vertical-align: middle;\n",
       "    }\n",
       "\n",
       "    .dataframe tbody tr th {\n",
       "        vertical-align: top;\n",
       "    }\n",
       "\n",
       "    .dataframe thead th {\n",
       "        text-align: right;\n",
       "    }\n",
       "</style>\n",
       "<table border=\"1\" class=\"dataframe\">\n",
       "  <thead>\n",
       "    <tr style=\"text-align: right;\">\n",
       "      <th></th>\n",
       "      <th>text</th>\n",
       "      <th>headlines</th>\n",
       "    </tr>\n",
       "  </thead>\n",
       "  <tbody>\n",
       "    <tr>\n",
       "      <th>86214</th>\n",
       "      <td>Actor Shah Rukh Khan's manager Pooja Dadlani h...</td>\n",
       "      <td>SRK's anger on prank show was staged, says his...</td>\n",
       "    </tr>\n",
       "    <tr>\n",
       "      <th>40125</th>\n",
       "      <td>President Ram Nath Kovind gave his approval fo...</td>\n",
       "      <td>Indiaâs 1st national sports university to be...</td>\n",
       "    </tr>\n",
       "    <tr>\n",
       "      <th>57443</th>\n",
       "      <td>The Ministry of Home Affairs has said that onl...</td>\n",
       "      <td>Only CISF, NSG to provide security for VVIPs: ...</td>\n",
       "    </tr>\n",
       "    <tr>\n",
       "      <th>90035</th>\n",
       "      <td>Lauding Delhi MLA Kapil Mishra for speaking ou...</td>\n",
       "      <td>Kejriwal surpassed Lalu in terms of corruption...</td>\n",
       "    </tr>\n",
       "    <tr>\n",
       "      <th>41041</th>\n",
       "      <td>Tata Group Chairman Emeritus Ratan Tata has sa...</td>\n",
       "      <td>It hurt when Tata Motors was seen as failing: ...</td>\n",
       "    </tr>\n",
       "    <tr>\n",
       "      <th>...</th>\n",
       "      <td>...</td>\n",
       "      <td>...</td>\n",
       "    </tr>\n",
       "    <tr>\n",
       "      <th>34912</th>\n",
       "      <td>Several train carriages carrying tonnes of hum...</td>\n",
       "      <td>'Poop train' has been stranded in US town for ...</td>\n",
       "    </tr>\n",
       "    <tr>\n",
       "      <th>52986</th>\n",
       "      <td>Indian scientists have discovered a 5,000-year...</td>\n",
       "      <td>Rock art in India gives oldest record of explo...</td>\n",
       "    </tr>\n",
       "    <tr>\n",
       "      <th>51742</th>\n",
       "      <td>Spiritual leader Sri Sri Ravi Shankar has said...</td>\n",
       "      <td>Loved 'Padmaavat', found nothing objectionable...</td>\n",
       "    </tr>\n",
       "    <tr>\n",
       "      <th>82418</th>\n",
       "      <td>Australian cricketers including David Warner m...</td>\n",
       "      <td>Aussie cricketers mock their unemployment on s...</td>\n",
       "    </tr>\n",
       "    <tr>\n",
       "      <th>14688</th>\n",
       "      <td>Delhi government has appointed Special Public ...</td>\n",
       "      <td>Delhi appoints special prosecutors for Ankit S...</td>\n",
       "    </tr>\n",
       "  </tbody>\n",
       "</table>\n",
       "<p>78703 rows × 2 columns</p>\n",
       "</div>"
      ],
      "text/plain": [
       "                                                    text  \\\n",
       "86214  Actor Shah Rukh Khan's manager Pooja Dadlani h...   \n",
       "40125  President Ram Nath Kovind gave his approval fo...   \n",
       "57443  The Ministry of Home Affairs has said that onl...   \n",
       "90035  Lauding Delhi MLA Kapil Mishra for speaking ou...   \n",
       "41041  Tata Group Chairman Emeritus Ratan Tata has sa...   \n",
       "...                                                  ...   \n",
       "34912  Several train carriages carrying tonnes of hum...   \n",
       "52986  Indian scientists have discovered a 5,000-year...   \n",
       "51742  Spiritual leader Sri Sri Ravi Shankar has said...   \n",
       "82418  Australian cricketers including David Warner m...   \n",
       "14688  Delhi government has appointed Special Public ...   \n",
       "\n",
       "                                               headlines  \n",
       "86214  SRK's anger on prank show was staged, says his...  \n",
       "40125  Indiaâs 1st national sports university to be...  \n",
       "57443  Only CISF, NSG to provide security for VVIPs: ...  \n",
       "90035  Kejriwal surpassed Lalu in terms of corruption...  \n",
       "41041  It hurt when Tata Motors was seen as failing: ...  \n",
       "...                                                  ...  \n",
       "34912  'Poop train' has been stranded in US town for ...  \n",
       "52986  Rock art in India gives oldest record of explo...  \n",
       "51742  Loved 'Padmaavat', found nothing objectionable...  \n",
       "82418  Aussie cricketers mock their unemployment on s...  \n",
       "14688  Delhi appoints special prosecutors for Ankit S...  \n",
       "\n",
       "[78703 rows x 2 columns]"
      ]
     },
     "execution_count": 18,
     "metadata": {},
     "output_type": "execute_result"
    }
   ],
   "source": [
    "pd.concat([train_X,train_y],axis=1)"
   ]
  },
  {
   "cell_type": "code",
   "execution_count": null,
   "metadata": {},
   "outputs": [],
   "source": []
  }
 ],
 "metadata": {
  "kernelspec": {
   "display_name": "Python 3",
   "language": "python",
   "name": "python3"
  },
  "language_info": {
   "codemirror_mode": {
    "name": "ipython",
    "version": 3
   },
   "file_extension": ".py",
   "mimetype": "text/x-python",
   "name": "python",
   "nbconvert_exporter": "python",
   "pygments_lexer": "ipython3",
   "version": "3.7.6"
  }
 },
 "nbformat": 4,
 "nbformat_minor": 4
}
