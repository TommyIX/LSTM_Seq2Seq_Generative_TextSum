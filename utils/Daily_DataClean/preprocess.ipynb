{
 "cells": [
  {
   "cell_type": "code",
   "execution_count": 1,
   "source": [
    "def processonestory(storycategory):\r\n",
    "    f = open(storycategory,'r',encoding='ISO-8859-15')               # 返回一个文件对象   \r\n",
    "    line = f.readline()               # 调用文件的 readline()方法   \r\n",
    "    stroriginal = \"\"\r\n",
    "    strhighlight = \"\"\r\n",
    "    highlightstart = False\r\n",
    "    while line:   \r\n",
    "        line=line.strip()\r\n",
    "        if line==\"@highlight\" : highlightstart = True\r\n",
    "        elif highlightstart:\r\n",
    "            strhighlight+=line\r\n",
    "            if len(line)>=15: strhighlight+=\". \"\r\n",
    "            else: strhighlight+=\" \"\r\n",
    "        else:\r\n",
    "            stroriginal+=line\r\n",
    "            stroriginal+=\" \"\r\n",
    "        line = f.readline()   \r\n",
    "    f.close()\r\n",
    "    return stroriginal,strhighlight"
   ],
   "outputs": [],
   "metadata": {}
  },
  {
   "cell_type": "code",
   "execution_count": null,
   "source": [
    "import glob\r\n",
    "import pandas as pd\r\n",
    "\r\n",
    "orlist = []\r\n",
    "hrlist = []\r\n",
    "now = 0\r\n",
    "\r\n",
    "allcate = glob.glob(\"./dailymail/stories/*.*\")\r\n",
    "for i in allcate:\r\n",
    "    now+=1\r\n",
    "    if now%1000==0: print(now)\r\n",
    "    stro,strh = processonestory(i)\r\n",
    "    orlist.append(stro)\r\n",
    "    hrlist.append(strh)\r\n",
    "\r\n",
    "# df = pd.DataFrame(orlist)\r\n",
    "# df.insert(1,1,hrlist)\r\n",
    "# df.to_csv(\"dailymail_stories.csv\")"
   ],
   "outputs": [],
   "metadata": {}
  },
  {
   "cell_type": "code",
   "execution_count": 4,
   "source": [
    "df = pd.DataFrame(hrlist,columns = [\"headlines\"])\r\n",
    "df.insert(1,\"text\",orlist)\r\n",
    "df.to_csv(\"dailymail_stories.csv\",index=False)\r\n"
   ],
   "outputs": [],
   "metadata": {}
  }
 ],
 "metadata": {
  "orig_nbformat": 4,
  "language_info": {
   "name": "python"
  }
 },
 "nbformat": 4,
 "nbformat_minor": 2
}